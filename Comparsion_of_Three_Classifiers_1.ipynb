{
 "cells": [
  {
   "cell_type": "markdown",
   "metadata": {},
   "source": [
    "### <strong>第三次作品：學習分類器的評比實驗 </strong>\n",
    "學號：711233112\n",
    "\n",
    "姓名：留筠雅\n",
    "<hr>\n",
    "\n",
    " <font color=skyblue>作品目標</font>：  \n",
    "本次專題計畫旨在比較不同分類器的效果，通過對三組資料進行分類學習和評估。所選用的分類器包括：\n",
    "\n",
    "- 多項式羅吉斯回歸 (Multinomial Logistic Regression)\n",
    "- 支援向量機 (Support Vector Machine)\n",
    "- 神經網絡 (Neural Network)\n",
    "  \n",
    "通過這個作品，希望為不同類型的問題提供分類器或是參數設定的選擇建議，並了解各個分類器在不同條件下的運作情況。\n",
    "<hr>"
   ]
  },
  {
   "cell_type": "markdown",
   "metadata": {},
   "source": [
    "### 紅酒資料集\n",
    "來自 3 個產區，178 瓶葡萄酒，含 13 種葡萄酒成分。"
   ]
  },
  {
   "cell_type": "markdown",
   "metadata": {},
   "source": [
    "導入套件"
   ]
  },
  {
   "cell_type": "code",
   "execution_count": 2,
   "metadata": {},
   "outputs": [],
   "source": [
    "import pandas as pd\n",
    "import numpy as np\n",
    "import matplotlib.pyplot as plt\n",
    "from sklearn.preprocessing import StandardScaler   \n",
    "from sklearn.model_selection import train_test_split\n",
    "from sklearn.linear_model import LogisticRegression\n",
    "from sklearn.metrics import accuracy_score  \n",
    "from sklearn.metrics import classification_report\n",
    "from sklearn.decomposition import PCA    \n",
    "from sklearn.svm import SVC,LinearSVC,LinearSVR\n",
    "from sklearn.neural_network import MLPClassifier\n",
    "from sklearn.metrics import confusion_matrix, ConfusionMatrixDisplay"
   ]
  },
  {
   "cell_type": "markdown",
   "metadata": {},
   "source": [
    "導入資料"
   ]
  },
  {
   "cell_type": "code",
   "execution_count": 3,
   "metadata": {},
   "outputs": [
    {
     "data": {
      "text/html": [
       "<div>\n",
       "<style scoped>\n",
       "    .dataframe tbody tr th:only-of-type {\n",
       "        vertical-align: middle;\n",
       "    }\n",
       "\n",
       "    .dataframe tbody tr th {\n",
       "        vertical-align: top;\n",
       "    }\n",
       "\n",
       "    .dataframe thead th {\n",
       "        text-align: right;\n",
       "    }\n",
       "</style>\n",
       "<table border=\"1\" class=\"dataframe\">\n",
       "  <thead>\n",
       "    <tr style=\"text-align: right;\">\n",
       "      <th></th>\n",
       "      <th>Alcohol</th>\n",
       "      <th>Malic_Acid</th>\n",
       "      <th>Ash</th>\n",
       "      <th>Ash_Alcanity</th>\n",
       "      <th>Magnesium</th>\n",
       "      <th>Total_Phenols</th>\n",
       "      <th>Flavanoids</th>\n",
       "      <th>Nonflavanoid_Phenols</th>\n",
       "      <th>Proanthocyanins</th>\n",
       "      <th>Color_Intensity</th>\n",
       "      <th>Hue</th>\n",
       "      <th>OD280</th>\n",
       "      <th>Proline</th>\n",
       "      <th>Customer_Segment</th>\n",
       "    </tr>\n",
       "  </thead>\n",
       "  <tbody>\n",
       "    <tr>\n",
       "      <th>0</th>\n",
       "      <td>14.23</td>\n",
       "      <td>1.71</td>\n",
       "      <td>2.43</td>\n",
       "      <td>15.6</td>\n",
       "      <td>127</td>\n",
       "      <td>2.80</td>\n",
       "      <td>3.06</td>\n",
       "      <td>0.28</td>\n",
       "      <td>2.29</td>\n",
       "      <td>5.64</td>\n",
       "      <td>1.04</td>\n",
       "      <td>3.92</td>\n",
       "      <td>1065</td>\n",
       "      <td>1</td>\n",
       "    </tr>\n",
       "    <tr>\n",
       "      <th>1</th>\n",
       "      <td>13.20</td>\n",
       "      <td>1.78</td>\n",
       "      <td>2.14</td>\n",
       "      <td>11.2</td>\n",
       "      <td>100</td>\n",
       "      <td>2.65</td>\n",
       "      <td>2.76</td>\n",
       "      <td>0.26</td>\n",
       "      <td>1.28</td>\n",
       "      <td>4.38</td>\n",
       "      <td>1.05</td>\n",
       "      <td>3.40</td>\n",
       "      <td>1050</td>\n",
       "      <td>1</td>\n",
       "    </tr>\n",
       "    <tr>\n",
       "      <th>2</th>\n",
       "      <td>13.16</td>\n",
       "      <td>2.36</td>\n",
       "      <td>2.67</td>\n",
       "      <td>18.6</td>\n",
       "      <td>101</td>\n",
       "      <td>2.80</td>\n",
       "      <td>3.24</td>\n",
       "      <td>0.30</td>\n",
       "      <td>2.81</td>\n",
       "      <td>5.68</td>\n",
       "      <td>1.03</td>\n",
       "      <td>3.17</td>\n",
       "      <td>1185</td>\n",
       "      <td>1</td>\n",
       "    </tr>\n",
       "    <tr>\n",
       "      <th>3</th>\n",
       "      <td>14.37</td>\n",
       "      <td>1.95</td>\n",
       "      <td>2.50</td>\n",
       "      <td>16.8</td>\n",
       "      <td>113</td>\n",
       "      <td>3.85</td>\n",
       "      <td>3.49</td>\n",
       "      <td>0.24</td>\n",
       "      <td>2.18</td>\n",
       "      <td>7.80</td>\n",
       "      <td>0.86</td>\n",
       "      <td>3.45</td>\n",
       "      <td>1480</td>\n",
       "      <td>1</td>\n",
       "    </tr>\n",
       "    <tr>\n",
       "      <th>4</th>\n",
       "      <td>13.24</td>\n",
       "      <td>2.59</td>\n",
       "      <td>2.87</td>\n",
       "      <td>21.0</td>\n",
       "      <td>118</td>\n",
       "      <td>2.80</td>\n",
       "      <td>2.69</td>\n",
       "      <td>0.39</td>\n",
       "      <td>1.82</td>\n",
       "      <td>4.32</td>\n",
       "      <td>1.04</td>\n",
       "      <td>2.93</td>\n",
       "      <td>735</td>\n",
       "      <td>1</td>\n",
       "    </tr>\n",
       "  </tbody>\n",
       "</table>\n",
       "</div>"
      ],
      "text/plain": [
       "   Alcohol  Malic_Acid   Ash  Ash_Alcanity  Magnesium  Total_Phenols  \\\n",
       "0    14.23        1.71  2.43          15.6        127           2.80   \n",
       "1    13.20        1.78  2.14          11.2        100           2.65   \n",
       "2    13.16        2.36  2.67          18.6        101           2.80   \n",
       "3    14.37        1.95  2.50          16.8        113           3.85   \n",
       "4    13.24        2.59  2.87          21.0        118           2.80   \n",
       "\n",
       "   Flavanoids  Nonflavanoid_Phenols  Proanthocyanins  Color_Intensity   Hue  \\\n",
       "0        3.06                  0.28             2.29             5.64  1.04   \n",
       "1        2.76                  0.26             1.28             4.38  1.05   \n",
       "2        3.24                  0.30             2.81             5.68  1.03   \n",
       "3        3.49                  0.24             2.18             7.80  0.86   \n",
       "4        2.69                  0.39             1.82             4.32  1.04   \n",
       "\n",
       "   OD280  Proline  Customer_Segment  \n",
       "0   3.92     1065                 1  \n",
       "1   3.40     1050                 1  \n",
       "2   3.17     1185                 1  \n",
       "3   3.45     1480                 1  \n",
       "4   2.93      735                 1  "
      ]
     },
     "execution_count": 3,
     "metadata": {},
     "output_type": "execute_result"
    }
   ],
   "source": [
    "df = pd.read_excel('data\\wine.xlsx')\n",
    "X = np.array(df.iloc[:, :-1]) # 排 除 最 後 一 欄 標 籤\n",
    "y = np.array(df.iloc[:, -1]) # 標籤欄\n",
    "df.head()"
   ]
  },
  {
   "cell_type": "markdown",
   "metadata": {},
   "source": [
    "切割訓練資料與測試資料"
   ]
  },
  {
   "cell_type": "code",
   "execution_count": 27,
   "metadata": {},
   "outputs": [],
   "source": [
    "X_train, X_test, y_train, y_test = train_test_split(X, y, test_size=0.4, random_state=42)"
   ]
  },
  {
   "cell_type": "code",
   "execution_count": 44,
   "metadata": {},
   "outputs": [
    {
     "data": {
      "image/png": "[encoded data removed]",
      "text/plain": [
       "<Figure size 800x600 with 1 Axes>"
      ]
     },
     "metadata": {},
     "output_type": "display_data"
    }
   ],
   "source": [
    "# 畫盒鬚圖\n",
    "ratings = np.array(X)\n",
    "categories = np.array(df.columns[:-1])\n",
    "# Orignal Data Boxplot \n",
    "plt.style.use('ggplot')\n",
    "plt.figure(figsize=(8, 6))\n",
    "boxprops = dict(linestyle = '--', linewidth = 1, color = '#76becc')\n",
    "flierprops = dict(marker='o', markerfacecolor = '#b2d235',\n",
    "markersize = 4.5, linestyle = 'none')\n",
    "plt.boxplot(ratings, boxprops = boxprops, \\\n",
    "flierprops = flierprops, \\\n",
    "labels = categories, vert = False)\n",
    "plt.title('Original Data Boxplot')\n",
    "plt.show()"
   ]
  },
  {
   "cell_type": "markdown",
   "metadata": {},
   "source": [
    "**<font color=skyblue>對執行結果的觀察紀錄：</font>**\n",
    "- 從這組紅酒的資料來看，*proline* 的數字大小與變異與其他變數相差頗大，這對做主成分分析可能不利，因此有必要先將這些差距以標準化的方式拉近些，通過標準化，可以確保每個變數對主成分的貢獻是基於它們的變異性，而不是基於它們的尺度。"
   ]
  },
  {
   "cell_type": "markdown",
   "metadata": {},
   "source": [
    "進行標準化"
   ]
  },
  {
   "cell_type": "code",
   "execution_count": 28,
   "metadata": {},
   "outputs": [],
   "source": [
    "scaler = StandardScaler()\n",
    "X_train_ = scaler.fit_transform(X_train)\n",
    "X_test_ = scaler.fit_transform(X_test)"
   ]
  },
  {
   "cell_type": "markdown",
   "metadata": {},
   "source": [
    "### 使用原始資料訓練多元羅吉斯回歸模型"
   ]
  },
  {
   "cell_type": "code",
   "execution_count": 29,
   "metadata": {},
   "outputs": [
    {
     "name": "stdout",
     "output_type": "stream",
     "text": [
      "accuracy for testing data under lbfgs:98.61%\n",
      "\n",
      "              precision    recall  f1-score   support\n",
      "\n",
      "           1       1.00      1.00      1.00        26\n",
      "           2       1.00      0.96      0.98        27\n",
      "           3       0.95      1.00      0.97        19\n",
      "\n",
      "    accuracy                           0.99        72\n",
      "   macro avg       0.98      0.99      0.99        72\n",
      "weighted avg       0.99      0.99      0.99        72\n",
      "\n",
      "accuracy for testing data under newton-cg:98.61%\n",
      "\n",
      "              precision    recall  f1-score   support\n",
      "\n",
      "           1       1.00      1.00      1.00        26\n",
      "           2       1.00      0.96      0.98        27\n",
      "           3       0.95      1.00      0.97        19\n",
      "\n",
      "    accuracy                           0.99        72\n",
      "   macro avg       0.98      0.99      0.99        72\n",
      "weighted avg       0.99      0.99      0.99        72\n",
      "\n",
      "[LibLinear]accuracy for testing data under liblinear:98.61%\n",
      "\n",
      "              precision    recall  f1-score   support\n",
      "\n",
      "           1       1.00      1.00      1.00        26\n",
      "           2       1.00      0.96      0.98        27\n",
      "           3       0.95      1.00      0.97        19\n",
      "\n",
      "    accuracy                           0.99        72\n",
      "   macro avg       0.98      0.99      0.99        72\n",
      "weighted avg       0.99      0.99      0.99        72\n",
      "\n"
     ]
    },
    {
     "name": "stderr",
     "output_type": "stream",
     "text": [
      "[Parallel(n_jobs=1)]: Using backend SequentialBackend with 1 concurrent workers.\n",
      "[Parallel(n_jobs=1)]: Done   1 out of   1 | elapsed:    0.0s finished\n",
      "[Parallel(n_jobs=1)]: Using backend SequentialBackend with 1 concurrent workers.\n",
      "[Parallel(n_jobs=1)]: Done   1 out of   1 | elapsed:    0.0s finished\n"
     ]
    }
   ],
   "source": [
    "opts = dict(tol = 1e-6, max_iter = int(1e6), verbose=1)\n",
    "clf_original_lbfgs= LogisticRegression(solver = 'lbfgs', **opts)# default\n",
    "clf_original_newtoncg= LogisticRegression(solver = 'newton-cg', **opts)\n",
    "clf_original_liblin= LogisticRegression(solver = 'liblinear', **opts)\n",
    "\n",
    "clf_original_lbfgs.fit(X_train_, y_train)\n",
    "y_pred_lbfgs = clf_original_lbfgs.predict(X_test_)\n",
    "# 測 試 資 料 之 準 確 率 回 報\n",
    "print(f'accuracy for testing data under lbfgs:{accuracy_score(y_test, y_pred_lbfgs):.2%}\\n')\n",
    "print(classification_report(y_test, y_pred_lbfgs))\n",
    "\n",
    "clf_original_newtoncg.fit(X_train_, y_train)\n",
    "y_pred_new = clf_original_newtoncg.predict(X_test_)\n",
    "# 測 試 資 料 之 準 確 率 回 報\n",
    "print(f'accuracy for testing data under newton-cg:{accuracy_score(y_test, y_pred_new):.2%}\\n')\n",
    "print(classification_report(y_test, y_pred_new))\n",
    "\n",
    "clf_original_liblin.fit(X_train_, y_train)\n",
    "y_pred_liblin = clf_original_liblin.predict(X_test_)\n",
    "# 測 試 資 料 之 準 確 率 回 報\n",
    "print(f'accuracy for testing data under liblinear:{accuracy_score(y_test, y_pred_liblin):.2%}\\n')\n",
    "print(classification_report(y_test, y_pred_liblin))\n",
    "\n"
   ]
  },
  {
   "cell_type": "markdown",
   "metadata": {},
   "source": [
    "**<font color=skyblue>對執行結果的觀察紀錄：</font>**\n",
    "- 可以看出這三個演算法對於紅酒資料集這種小型資料沒有太大影響。\n",
    "- 多元羅吉斯迴歸模型預測準確率為高達 98.61% 。"
   ]
  },
  {
   "cell_type": "markdown",
   "metadata": {},
   "source": [
    "也可以使用 confusion matrix 來觀察每一個類別被分類的準確度，進而了解哪些類別或該類別的資料有甚麼特殊之處。"
   ]
  },
  {
   "cell_type": "code",
   "execution_count": 30,
   "metadata": {},
   "outputs": [
    {
     "data": {
      "image/png": "[encoded data removed]",
      "text/plain": [
       "<Figure size 640x480 with 2 Axes>"
      ]
     },
     "metadata": {},
     "output_type": "display_data"
    },
    {
     "data": {
      "image/png": "[encoded data removed]",
      "text/plain": [
       "<Figure size 640x480 with 2 Axes>"
      ]
     },
     "metadata": {},
     "output_type": "display_data"
    },
    {
     "data": {
      "image/png": "[encoded data removed]",
      "text/plain": [
       "<Figure size 640x480 with 2 Axes>"
      ]
     },
     "metadata": {},
     "output_type": "display_data"
    }
   ],
   "source": [
    "# 混淆矩陣\n",
    "cm = confusion_matrix(y_test, y_pred_lbfgs)\n",
    "disp = ConfusionMatrixDisplay(confusion_matrix=cm, display_labels=clf_original_lbfgs.classes_)\n",
    "disp.plot(cmap=plt.cm.Blues)\n",
    "plt.title('Confusion Matrix for lbfgs')\n",
    "plt.show()\n",
    "\n",
    "cm = confusion_matrix(y_test, y_pred_new)\n",
    "disp = ConfusionMatrixDisplay(confusion_matrix=cm, display_labels=clf_original_newtoncg.classes_)\n",
    "disp.plot(cmap=plt.cm.Blues)\n",
    "plt.title('Confusion Matrix for newton-cg')\n",
    "plt.show()\n",
    "\n",
    "cm = confusion_matrix(y_test, y_pred_liblin)\n",
    "disp = ConfusionMatrixDisplay(confusion_matrix=cm, display_labels=clf_original_liblin.classes_)\n",
    "disp.plot(cmap=plt.cm.Blues)\n",
    "plt.title('Confusion Matrix for liblinear')\n",
    "plt.show()"
   ]
  },
  {
   "cell_type": "markdown",
   "metadata": {},
   "source": [
    "**<font color=skyblue>對執行結果的觀察紀錄：</font>**\n",
    "- 從這三張視覺化後的圖片可以看出在 y = 2 時，可能會有預測錯誤的情況發生，被預測成 y = 3。"
   ]
  },
  {
   "cell_type": "markdown",
   "metadata": {},
   "source": [
    "### 使用主成分分析後的資料訓練多元羅吉斯回歸模型。"
   ]
  },
  {
   "cell_type": "code",
   "execution_count": 32,
   "metadata": {},
   "outputs": [
    {
     "name": "stdout",
     "output_type": "stream",
     "text": [
      "accuracy for testing data under lbfgs:94.44%\n",
      "\n",
      "              precision    recall  f1-score   support\n",
      "\n",
      "           1       0.93      0.96      0.94        26\n",
      "           2       0.96      0.89      0.92        27\n",
      "           3       0.95      1.00      0.97        19\n",
      "\n",
      "    accuracy                           0.94        72\n",
      "   macro avg       0.95      0.95      0.95        72\n",
      "weighted avg       0.95      0.94      0.94        72\n",
      "\n",
      "accuracy for testing data under newton-cg:94.44%\n",
      "\n",
      "              precision    recall  f1-score   support\n",
      "\n",
      "           1       0.93      0.96      0.94        26\n",
      "           2       0.96      0.89      0.92        27\n",
      "           3       0.95      1.00      0.97        19\n",
      "\n",
      "    accuracy                           0.94        72\n",
      "   macro avg       0.95      0.95      0.95        72\n",
      "weighted avg       0.95      0.94      0.94        72\n",
      "\n",
      "[LibLinear]accuracy for testing data under liblinear:94.44%\n",
      "\n",
      "              precision    recall  f1-score   support\n",
      "\n",
      "           1       0.93      0.96      0.94        26\n",
      "           2       0.96      0.89      0.92        27\n",
      "           3       0.95      1.00      0.97        19\n",
      "\n",
      "    accuracy                           0.94        72\n",
      "   macro avg       0.95      0.95      0.95        72\n",
      "weighted avg       0.95      0.94      0.94        72\n",
      "\n"
     ]
    },
    {
     "name": "stderr",
     "output_type": "stream",
     "text": [
      "[Parallel(n_jobs=1)]: Using backend SequentialBackend with 1 concurrent workers.\n",
      "[Parallel(n_jobs=1)]: Done   1 out of   1 | elapsed:    0.0s finished\n",
      "[Parallel(n_jobs=1)]: Using backend SequentialBackend with 1 concurrent workers.\n",
      "[Parallel(n_jobs=1)]: Done   1 out of   1 | elapsed:    0.0s finished\n"
     ]
    }
   ],
   "source": [
    "pca = PCA(n_components = 0.7).fit(X_train_)\n",
    "Z_train = pca.transform(X_train_)\n",
    "Z_test = pca.transform(X_test_)\n",
    "opts = dict(tol = 1e-6, max_iter = int(1e6), verbose=1)\n",
    "\n",
    "\n",
    "clf_pca_lbfgs= LogisticRegression(solver = 'lbfgs', **opts)# default\n",
    "clf_pca_newtoncg= LogisticRegression(solver = 'newton-cg', **opts)\n",
    "clf_pca_liblin= LogisticRegression(solver = 'liblinear', **opts)\n",
    "\n",
    "clf_pca_lbfgs.fit(Z_train, y_train)\n",
    "y_pred_lbfgs = clf_pca_lbfgs.predict(Z_test)\n",
    "print(f'accuracy for testing data under lbfgs:{clf_pca_lbfgs.score(Z_test, y_test):.2%}\\n')\n",
    "print(classification_report(y_test, y_pred_lbfgs))\n",
    "\n",
    "clf_pca_newtoncg.fit(Z_train, y_train)\n",
    "y_pred_new = clf_pca_newtoncg.predict(Z_test)\n",
    "print(f'accuracy for testing data under newton-cg:{clf_pca_newtoncg.score(Z_test, y_test):.2%}\\n')\n",
    "print(classification_report(y_test, y_pred_new))\n",
    "\n",
    "clf_pca_liblin.fit(Z_train, y_train)\n",
    "y_pred_liblin = clf_pca_liblin.predict(Z_test)\n",
    "print(f'accuracy for testing data under liblinear:{clf_pca_liblin.score(Z_test, y_test):.2%}\\n')\n",
    "print(classification_report(y_test, y_pred_liblin))\n"
   ]
  },
  {
   "cell_type": "markdown",
   "metadata": {},
   "source": [
    "**<font color=skyblue>對執行結果的觀察紀錄：</font>**\n",
    "- lbfgs, newton-cg, liblinear 這三個演算法裡，預測出來的準確率一樣高( 94.44% )。\n",
    "- PCA後的資料，取主成分比例為 0.7，代表這些資料可以解釋 70% 的變異量。雖然會喪失資訊量但留下來的是有意義的訊息。\n",
    "- 當降低了特徵空間的維度，減少了需要處理的數據量，便降低了計算的複雜度和成本。\n",
    "- PCA後的資料，在這三個演算法裡，預測的準確率與原始資料( 98.61% )差異不大。\n"
   ]
  },
  {
   "cell_type": "markdown",
   "metadata": {},
   "source": [
    "### 使用原始資料訓練 SVM 模型。"
   ]
  },
  {
   "cell_type": "code",
   "execution_count": 35,
   "metadata": {},
   "outputs": [
    {
     "name": "stdout",
     "output_type": "stream",
     "text": [
      "accuracy for testing data under linear:98.61%\n",
      "\n",
      "              precision    recall  f1-score   support\n",
      "\n",
      "           1       1.00      1.00      1.00        26\n",
      "           2       1.00      0.96      0.98        27\n",
      "           3       0.95      1.00      0.97        19\n",
      "\n",
      "    accuracy                           0.99        72\n",
      "   macro avg       0.98      0.99      0.99        72\n",
      "weighted avg       0.99      0.99      0.99        72\n",
      "\n",
      "accuracy for testing data under rbf:97.22%\n",
      "\n",
      "              precision    recall  f1-score   support\n",
      "\n",
      "           1       1.00      1.00      1.00        26\n",
      "           2       0.93      1.00      0.96        27\n",
      "           3       1.00      0.89      0.94        19\n",
      "\n",
      "    accuracy                           0.97        72\n",
      "   macro avg       0.98      0.96      0.97        72\n",
      "weighted avg       0.97      0.97      0.97        72\n",
      "\n",
      "accuracy for testing data under poly:90.28%\n",
      "\n",
      "              precision    recall  f1-score   support\n",
      "\n",
      "           1       0.95      0.77      0.85        26\n",
      "           2       0.81      0.96      0.88        27\n",
      "           3       1.00      1.00      1.00        19\n",
      "\n",
      "    accuracy                           0.90        72\n",
      "   macro avg       0.92      0.91      0.91        72\n",
      "weighted avg       0.91      0.90      0.90        72\n",
      "\n",
      "accuracy for testing data under LinearSVC:98.61%\n",
      "\n",
      "              precision    recall  f1-score   support\n",
      "\n",
      "           1       1.00      1.00      1.00        26\n",
      "           2       1.00      0.96      0.98        27\n",
      "           3       0.95      1.00      0.97        19\n",
      "\n",
      "    accuracy                           0.99        72\n",
      "   macro avg       0.98      0.99      0.99        72\n",
      "weighted avg       0.99      0.99      0.99        72\n",
      "\n"
     ]
    },
    {
     "name": "stderr",
     "output_type": "stream",
     "text": [
      "c:\\Users\\f9006\\anaconda3\\Lib\\site-packages\\sklearn\\svm\\_classes.py:32: FutureWarning: The default value of `dual` will change from `True` to `'auto'` in 1.5. Set the value of `dual` explicitly to suppress the warning.\n",
      "  warnings.warn(\n"
     ]
    }
   ],
   "source": [
    "C = 1 # SVM regularization parameter\n",
    "opts = dict(C = C, tol = 1e-6, max_iter = int(1e6))\n",
    "# opts = dict(C = C, decision_function_shape = ’ovo’, \\\n",
    "# tol = 1e−6, max_iter = int(1e6))\n",
    "clf_svm_linear = SVC(kernel=\"linear\", **opts)\n",
    "clf_svm_rbf = SVC(kernel=\"rbf\", gamma=0.2, **opts)\n",
    "clf_svm_poly = SVC(kernel=\"poly\", degree=3, gamma=\"auto\", **opts)\n",
    "clf_svm_rest = LinearSVC(**opts) # one vs the rest\n",
    "#para = {\"kernal\":[\"linear\", \"rbf\", \"poly\"], \"C\":[0.1, 1, 10], \"gamma\":[0.1, 1, 10]}\n",
    "clf_svm_linear.fit(X_train_,y_train)\n",
    "predictions=clf_svm_linear.predict(X_test_)\n",
    "print(f'accuracy for testing data under linear:{accuracy_score(y_test, predictions):.2%}\\n')\n",
    "print(classification_report(y_test, predictions))\n",
    "\n",
    "clf_svm_rbf.fit(X_train_,y_train)\n",
    "predictions=clf_svm_rbf.predict(X_test_)\n",
    "print(f'accuracy for testing data under rbf:{accuracy_score(y_test, predictions):.2%}\\n')\n",
    "print(classification_report(y_test, predictions))\n",
    "\n",
    "clf_svm_poly.fit(X_train_,y_train)\n",
    "predictions=clf_svm_poly.predict(X_test_)\n",
    "print(f'accuracy for testing data under poly:{accuracy_score(y_test, predictions):.2%}\\n')\n",
    "print(classification_report(y_test, predictions))\n",
    "\n",
    "clf_svm_rest.fit(X_train_,y_train)\n",
    "predictions=clf_svm_rest.predict(X_test_)\n",
    "print(f'accuracy for testing data under LinearSVC:{accuracy_score(y_test, predictions):.2%}\\n')\n",
    "print(classification_report(y_test, predictions))"
   ]
  },
  {
   "cell_type": "markdown",
   "metadata": {},
   "source": [
    "**<font color=skyblue>對執行結果的觀察紀錄：</font>**\n",
    "- 在選擇決策函數（decision function）時，有兩種常見的方法：\n",
    "\n",
    "  1. 一對其他（One-vs-Rest）：對於每個類別，建立一個分類器，該分類器將該類別的樣本與其他所有類別的樣本作為對立面。這是預設選項。\n",
    "  2. 一對一（One-vs-One）：採用一對一的分組方式，即為每個類別組合建立一個分類器，該分類器將兩個類別的樣本分開。\n",
    "  3. LinearSVC( ) 則是採一對其他的模式， SVC( ) 在這裡是設定一對一模式。\n",
    "- linear和 LinearSVC 是這四個 SVM 模型裡預測準確率最高的( 98.61% )，但其實所有模型都有 90% 以上的準確率。\n",
    "  "
   ]
  },
  {
   "cell_type": "markdown",
   "metadata": {},
   "source": [
    "### 使用主成分分析後訓練 SVM 模型。"
   ]
  },
  {
   "cell_type": "code",
   "execution_count": 39,
   "metadata": {},
   "outputs": [
    {
     "name": "stdout",
     "output_type": "stream",
     "text": [
      "accuracy for testing data under linear:94.44%\n",
      "\n",
      "              precision    recall  f1-score   support\n",
      "\n",
      "           1       0.93      0.96      0.94        26\n",
      "           2       0.96      0.89      0.92        27\n",
      "           3       0.95      1.00      0.97        19\n",
      "\n",
      "    accuracy                           0.94        72\n",
      "   macro avg       0.95      0.95      0.95        72\n",
      "weighted avg       0.95      0.94      0.94        72\n",
      "\n",
      "accuracy for testing data under rbf:97.22%\n",
      "\n",
      "              precision    recall  f1-score   support\n",
      "\n",
      "           1       0.93      1.00      0.96        26\n",
      "           2       1.00      0.93      0.96        27\n",
      "           3       1.00      1.00      1.00        19\n",
      "\n",
      "    accuracy                           0.97        72\n",
      "   macro avg       0.98      0.98      0.97        72\n",
      "weighted avg       0.97      0.97      0.97        72\n",
      "\n",
      "accuracy for testing data under poly:91.67%\n",
      "\n",
      "              precision    recall  f1-score   support\n",
      "\n",
      "           1       0.89      0.96      0.93        26\n",
      "           2       0.96      0.81      0.88        27\n",
      "           3       0.90      1.00      0.95        19\n",
      "\n",
      "    accuracy                           0.92        72\n",
      "   macro avg       0.92      0.93      0.92        72\n",
      "weighted avg       0.92      0.92      0.92        72\n",
      "\n",
      "accuracy for testing data under LinearSVC:94.44%\n",
      "\n",
      "              precision    recall  f1-score   support\n",
      "\n",
      "           1       0.93      0.96      0.94        26\n",
      "           2       0.96      0.89      0.92        27\n",
      "           3       0.95      1.00      0.97        19\n",
      "\n",
      "    accuracy                           0.94        72\n",
      "   macro avg       0.95      0.95      0.95        72\n",
      "weighted avg       0.95      0.94      0.94        72\n",
      "\n"
     ]
    },
    {
     "name": "stderr",
     "output_type": "stream",
     "text": [
      "c:\\Users\\f9006\\anaconda3\\Lib\\site-packages\\sklearn\\svm\\_classes.py:32: FutureWarning: The default value of `dual` will change from `True` to `'auto'` in 1.5. Set the value of `dual` explicitly to suppress the warning.\n",
      "  warnings.warn(\n"
     ]
    }
   ],
   "source": [
    "# PCA\n",
    "clf_svm_linear.fit(Z_train,y_train)\n",
    "predictions=clf_svm_linear.predict(Z_test)\n",
    "print(f'accuracy for testing data under linear:{clf_svm_linear.score(Z_test, y_test):.2%}\\n')\n",
    "print(classification_report(y_test, predictions))\n",
    "\n",
    "clf_svm_rbf.fit(Z_train,y_train)\n",
    "predictions=clf_svm_rbf.predict(Z_test)\n",
    "print(f'accuracy for testing data under rbf:{clf_svm_rbf.score(Z_test, y_test):.2%}\\n')\n",
    "print(classification_report(y_test, predictions))\n",
    "\n",
    "clf_svm_poly.fit(Z_train,y_train)\n",
    "predictions=clf_svm_poly.predict(Z_test)\n",
    "print(f'accuracy for testing data under poly:{clf_svm_poly.score(Z_test, y_test):.2%}\\n')\n",
    "print(classification_report(y_test, predictions))\n",
    "\n",
    "clf_svm_rest.fit(Z_train,y_train)\n",
    "predictions=clf_svm_rest.predict(Z_test)\n",
    "print(f'accuracy for testing data under LinearSVC:{clf_svm_rest.score(Z_test, y_test):.2%}\\n')\n",
    "print(classification_report(y_test, predictions))\n",
    "\n"
   ]
  },
  {
   "cell_type": "markdown",
   "metadata": {},
   "source": [
    "**<font color=skyblue>對執行結果的觀察紀錄：</font>**\n",
    "- 這四個 SVM 模型裡以 rbf 預測出來的準確率最高( 97.22% )，所有模型都有 91% 以上的準確率。\n",
    "- 整體來說，有 PCA 過後的資料並沒有降低太多預測準確率。"
   ]
  },
  {
   "cell_type": "markdown",
   "metadata": {},
   "source": [
    "### 利用原始資料訓練 ANN 模型"
   ]
  },
  {
   "cell_type": "code",
   "execution_count": 60,
   "metadata": {},
   "outputs": [
    {
     "name": "stdout",
     "output_type": "stream",
     "text": [
      "accuracy for testing data under sgd:98.61%\n",
      "\n",
      "              precision    recall  f1-score   support\n",
      "\n",
      "           1       1.00      1.00      1.00        26\n",
      "           2       1.00      0.96      0.98        27\n",
      "           3       0.95      1.00      0.97        19\n",
      "\n",
      "    accuracy                           0.99        72\n",
      "   macro avg       0.98      0.99      0.99        72\n",
      "weighted avg       0.99      0.99      0.99        72\n",
      "\n",
      "accuracy for testing data under lbfgs:98.61%\n",
      "\n",
      "              precision    recall  f1-score   support\n",
      "\n",
      "           1       1.00      1.00      1.00        26\n",
      "           2       1.00      0.96      0.98        27\n",
      "           3       0.95      1.00      0.97        19\n",
      "\n",
      "    accuracy                           0.99        72\n",
      "   macro avg       0.98      0.99      0.99        72\n",
      "weighted avg       0.99      0.99      0.99        72\n",
      "\n",
      "accuracy for testing data under adam:98.61%\n",
      "\n",
      "              precision    recall  f1-score   support\n",
      "\n",
      "           1       1.00      1.00      1.00        26\n",
      "           2       1.00      0.96      0.98        27\n",
      "           3       0.95      1.00      0.97        19\n",
      "\n",
      "    accuracy                           0.99        72\n",
      "   macro avg       0.98      0.99      0.99        72\n",
      "weighted avg       0.99      0.99      0.99        72\n",
      "\n"
     ]
    }
   ],
   "source": [
    "# hidden_layers = (512,) # one hidden layer\n",
    "# activation = 'relu' # the default\n",
    "hidden_layers = (30,)\n",
    "activation = 'logistic'\n",
    "opts = dict(hidden_layer_sizes = hidden_layers , verbose = False, \\\n",
    "activation = activation, tol = 1e-6, max_iter = int(1e6))\n",
    "\n",
    "clf_MLP_sgd = MLPClassifier(solver = 'sgd', **opts) \n",
    "clf_MLP_lbfgs = MLPClassifier(solver = 'lbfgs', **opts) \n",
    "clf_MLP_adam = MLPClassifier(solver = 'adam', **opts) \n",
    "\n",
    "clf_MLP_sgd.fit(X_train_, y_train)\n",
    "predictions_sgd = clf_MLP_sgd.predict(X_test_)\n",
    "print(f'accuracy for testing data under sgd:{accuracy_score(y_test, predictions):.2%}\\n')\n",
    "print(classification_report(y_test, predictions_sgd))\n",
    "\n",
    "clf_MLP_lbfgs.fit(X_train_, y_train)\n",
    "predictions_lbfgs = clf_MLP_lbfgs.predict(X_test_)\n",
    "print(f'accuracy for testing data under lbfgs:{accuracy_score(y_test, predictions):.2%}\\n')\n",
    "print(classification_report(y_test, predictions_lbfgs))\n",
    "\n",
    "clf_MLP_adam.fit(X_train_, y_train)\n",
    "predictions_adam = clf_MLP_adam.predict(X_test_)\n",
    "print(f'accuracy for testing data under adam:{accuracy_score(y_test, predictions):.2%}\\n')\n",
    "print(classification_report(y_test, predictions_adam))\n"
   ]
  },
  {
   "cell_type": "markdown",
   "metadata": {},
   "source": [
    "**<font color=skyblue>對執行結果的觀察紀錄：</font>**\n",
    "- 針對紅酒資料集而言，ANN 模型裡神經元個數只選 30 個且只有 1 層隱藏層。這 3 個 ANN 模型就有 98.61% 的預測準確率。 \n",
    "- 不同演算法預測出的模型準確率，差別不大。"
   ]
  },
  {
   "cell_type": "markdown",
   "metadata": {},
   "source": [
    "### 利用主成分分析後的資料訓練 ANN 模型"
   ]
  },
  {
   "cell_type": "code",
   "execution_count": 49,
   "metadata": {},
   "outputs": [
    {
     "name": "stdout",
     "output_type": "stream",
     "text": [
      "accuracy for testing data under sgd:94.44%\n",
      "\n",
      "              precision    recall  f1-score   support\n",
      "\n",
      "           1       0.93      0.96      0.94        26\n",
      "           2       0.96      0.89      0.92        27\n",
      "           3       0.95      1.00      0.97        19\n",
      "\n",
      "    accuracy                           0.94        72\n",
      "   macro avg       0.95      0.95      0.95        72\n",
      "weighted avg       0.95      0.94      0.94        72\n",
      "\n",
      "accuracy for testing data under lbfgs:91.67%\n",
      "\n",
      "              precision    recall  f1-score   support\n",
      "\n",
      "           1       0.89      0.96      0.93        26\n",
      "           2       0.92      0.85      0.88        27\n",
      "           3       0.95      0.95      0.95        19\n",
      "\n",
      "    accuracy                           0.92        72\n",
      "   macro avg       0.92      0.92      0.92        72\n",
      "weighted avg       0.92      0.92      0.92        72\n",
      "\n",
      "accuracy for testing data under adam:94.44%\n",
      "\n",
      "              precision    recall  f1-score   support\n",
      "\n",
      "           1       0.87      1.00      0.93        26\n",
      "           2       1.00      0.89      0.94        27\n",
      "           3       1.00      0.95      0.97        19\n",
      "\n",
      "    accuracy                           0.94        72\n",
      "   macro avg       0.96      0.95      0.95        72\n",
      "weighted avg       0.95      0.94      0.95        72\n",
      "\n"
     ]
    }
   ],
   "source": [
    "# PCA\n",
    "clf_MLP_sgd.fit(Z_train, y_train)  \n",
    "predictions_pca_sgd = clf_MLP_sgd.predict(Z_test)\n",
    "print(f'accuracy for testing data under sgd:{clf_MLP_sgd.score(Z_test, y_test):.2%}\\n')\n",
    "print(classification_report(y_test, predictions_pca_sgd))\n",
    "\n",
    "clf_MLP_lbfgs.fit(Z_train, y_train)\n",
    "predictions_pca_lbfgs = clf_MLP_lbfgs.predict(Z_test)\n",
    "print(f'accuracy for testing data under lbfgs:{clf_MLP_lbfgs.score(Z_test, y_test):.2%}\\n')\n",
    "print(classification_report(y_test, predictions_pca_lbfgs))\n",
    "\n",
    "clf_MLP_adam.fit(Z_train, y_train)\n",
    "predictions_pca_adam = clf_MLP_adam.predict(Z_test)\n",
    "print(f'accuracy for testing data under adam:{clf_MLP_adam.score(Z_test, y_test):.2%}\\n')\n",
    "print(classification_report(y_test, predictions_pca_adam))\n"
   ]
  },
  {
   "cell_type": "markdown",
   "metadata": {},
   "source": [
    "**<font color=skyblue>對執行結果的觀察紀錄：</font>**\n",
    "- 這三個 ANN 模型裡以 sgd 和 adam 演算法預測出來的準確率最高( 94.44% )，所有模型都有 91% 以上的準確率。\n",
    "- 整體來說，有 PCA 過後的資料並沒有降低太多預測準確率。"
   ]
  },
  {
   "cell_type": "markdown",
   "metadata": {},
   "source": [
    "繪製 confusion matrix 來觀察每一個類別被分類的準確度，這裡選擇 adam 演算法所計算的 ANN 模型。"
   ]
  },
  {
   "cell_type": "code",
   "execution_count": 66,
   "metadata": {},
   "outputs": [
    {
     "data": {
      "image/png": "[encoded data removed]",
      "text/plain": [
       "<Figure size 400x400 with 2 Axes>"
      ]
     },
     "metadata": {},
     "output_type": "display_data"
    }
   ],
   "source": [
    "\n",
    "score_1 = 100*accuracy_score(y_test, predictions_sgd)\n",
    "title_1 = 'Testing score = {:.2f}%'.format(score_1)\n",
    "\n",
    "cm = confusion_matrix(y_test, predictions_sgd)\n",
    "\n",
    "disp = ConfusionMatrixDisplay(confusion_matrix=cm, display_labels=clf_MLP_sgd.classes_,)\n",
    "\n",
    "fig, ax = plt.subplots(figsize=(4,4))\n",
    "\n",
    "disp.plot(cmap=plt.cm.Blues, ax=ax, xticks_rotation='horizontal')\n",
    "plt.title(title_1, fontsize=15)\n",
    "\n",
    "plt.tight_layout()\n",
    "plt.show()\n",
    "\n"
   ]
  },
  {
   "cell_type": "markdown",
   "metadata": {},
   "source": [
    "**<font color=skyblue>對執行結果的觀察紀錄：</font>**\n",
    "- 視覺化後的圖片可以看出在 y = 2 時，可能會有預測錯誤的情況發生，被預測成 y = 3。"
   ]
  },
  {
   "cell_type": "markdown",
   "metadata": {},
   "source": [
    "<hr>\n",
    "\n",
    "#### **<font color=\t#2E8B57 >原始資料的模型訓練觀察結果</font>**\n",
    "比較 3 組學習器的模型預測準確率，從每個學習器裡取最高測準確率\n",
    " - 多項式羅吉斯回歸 98.61%\n",
    " - 支援向量機 98.61%\n",
    " - 神經網路 98.61%\n"
   ]
  },
  {
   "cell_type": "markdown",
   "metadata": {},
   "source": [
    "#### **<font color=\t#2E8B57 >主成分分析後的資料的模型訓練觀察結果</font>**\n",
    " - 多項式羅吉斯回歸 94.44%\n",
    " - 支援向量機 97.22%\n",
    " - 神經網路 94.44%\n",
    "\n"
   ]
  },
  {
   "cell_type": "markdown",
   "metadata": {},
   "source": [
    "#### **<font color=#FA8072> 整體觀察結果：</font>**\n",
    "1. 以紅酒資料集來說，這三種學習分類器預測的效果皆不錯，且紅酒資料集是這三個資料集裡預測準確度最高的，推測是分類數少，模型較好分類。\n",
    "2. 有主成分分析的資料整體而言不會降低太多模型預測準確率。\n",
    "<hr>"
   ]
  }
 ],
 "metadata": {
  "kernelspec": {
   "display_name": "base",
   "language": "python",
   "name": "python3"
  },
  "language_info": {
   "codemirror_mode": {
    "name": "ipython",
    "version": 3
   },
   "file_extension": ".py",
   "mimetype": "text/x-python",
   "name": "python",
   "nbconvert_exporter": "python",
   "pygments_lexer": "ipython3",
   "version": "3.11.5"
  }
 },
 "nbformat": 4,
 "nbformat_minor": 2
}
